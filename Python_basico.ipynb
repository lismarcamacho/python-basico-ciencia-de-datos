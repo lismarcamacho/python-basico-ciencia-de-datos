{
  "nbformat": 4,
  "nbformat_minor": 0,
  "metadata": {
    "colab": {
      "provenance": [],
      "collapsed_sections": [
        "7nm8LwLct8Rq",
        "gQzAVzzk9gPO",
        "WVqBvfJ-_C2U",
        "CyCWnzsWV8vw",
        "TrE-jl_1vfzK"
      ],
      "authorship_tag": "ABX9TyP8Xm9kXiKKYuExPrmG/Bcp",
      "include_colab_link": true
    },
    "kernelspec": {
      "name": "python3",
      "display_name": "Python 3"
    },
    "language_info": {
      "name": "python"
    }
  },
  "cells": [
    {
      "cell_type": "markdown",
      "metadata": {
        "id": "view-in-github",
        "colab_type": "text"
      },
      "source": [
        "<a href=\"https://colab.research.google.com/github/lismarcamacho/python-basico-ciencia-de-datos/blob/main/Python_basico.ipynb\" target=\"_parent\"><img src=\"https://colab.research.google.com/assets/colab-badge.svg\" alt=\"Open In Colab\"/></a>"
      ]
    },
    {
      "cell_type": "markdown",
      "source": [
        "# Modulo 1: Fundamentos de Python\n",
        "## Introducción a Python: ¿Por que es tan popular?\n",
        "### - Bots\n",
        "### - Machine learning\n",
        "### - Deep Learning\n",
        "### - Ciencias de datos\n",
        "### - Desarollo Web (Django, Flask)\n",
        "Por ejemplo, Instagram y Spotify se construyeron con Django.\n",
        "\n",
        "\n",
        "\n",
        "\n",
        "## Configuracion del entorno\n",
        "\n",
        "- Google Colab\n",
        "- Jupyter Notebook\n",
        "- Visual studio Code"
      ],
      "metadata": {
        "id": "Lz5MEHUVuNxt"
      }
    },
    {
      "cell_type": "markdown",
      "source": [
        "## Tipos de datos basicos\n",
        "### enteros\n",
        "### flotantes\n",
        "### cadenas de texto\n",
        "### *booleanos*"
      ],
      "metadata": {
        "id": "KHRc2tEntrGz"
      }
    },
    {
      "cell_type": "markdown",
      "source": [
        "## Variables*"
      ],
      "metadata": {
        "id": "7nm8LwLct8Rq"
      }
    },
    {
      "cell_type": "code",
      "source": [
        "\n",
        "producto = \"cartera\" # esto es una cadena de texto\n",
        "concatenado1 =\"es \"\n",
        "concatenado2 =\"una \"\n",
        "concatenado3 =\"nueva\"\n",
        "\n",
        "print(concatenado1 + concatenado2 + producto + \" \" + concatenado3)\n",
        "\n",
        "codigo = 123 # esto es un tipo de dato entero,\n",
        "precio = 19.99 # esto es un tipo de dato flotante\n",
        "comprado = True # tipo de dato booleano\n",
        "# esto es un comentario no aparece dentro del print\n",
        "print(producto)\n",
        "print(codigo)\n",
        "print(precio)\n",
        "print(type(precio))\n",
        "print(type(codigo))\n",
        "print(type(producto))\n",
        "print(type(comprado))\n",
        "print(\"Precio del producto:\", codigo, producto , \"=\", precio )\n",
        "\n",
        "\n"
      ],
      "metadata": {
        "colab": {
          "base_uri": "https://localhost:8080/"
        },
        "id": "YhX-1UiPsrEm",
        "outputId": "e70e26e7-60ef-4874-f09d-c019d18df3a2"
      },
      "execution_count": null,
      "outputs": [
        {
          "output_type": "stream",
          "name": "stdout",
          "text": [
            "es una cartera nueva\n",
            "cartera\n",
            "123\n",
            "19.99\n",
            "<class 'float'>\n",
            "<class 'int'>\n",
            "<class 'str'>\n",
            "<class 'bool'>\n",
            "Precio del producto: 123 cartera = 19.99\n"
          ]
        }
      ]
    },
    {
      "cell_type": "markdown",
      "source": [
        "## Entrada (Input) 📥\n",
        "La entrada y la salida se refieren a la forma en que un programa interactúa con el mundo exterior.**texto en negrita**"
      ],
      "metadata": {
        "id": "19JPlUIWCW4C"
      }
    },
    {
      "cell_type": "markdown",
      "source": [
        "Entrada (Input) 📥\n",
        "Una entrada es la información que un programa recibe de una fuente externa. Esto puede ser cualquier cosa que el usuario introduzca (por ejemplo, a través del teclado), datos de un archivo, información de una base de datos o de internet. En Python, la forma más común de obtener una entrada del usuario es a través de la función input()."
      ],
      "metadata": {
        "id": "hgX9QQClCgGV"
      }
    },
    {
      "cell_type": "code",
      "source": [
        "nombre = input(\"¿Cuál es tu nombre? \")\n",
        "# El programa espera que el usuario escriba algo y presione Enter."
      ],
      "metadata": {
        "id": "R63NPSl4Chb2"
      },
      "execution_count": null,
      "outputs": []
    },
    {
      "cell_type": "markdown",
      "source": [
        "## Salida (Output) 📤\n",
        "Una salida es la información que un programa envía al mundo exterior. Esto puede ser texto que se muestra en la pantalla (la consola), datos que se guardan en un archivo, o información que se envía a una base de datos o a otro sistema. En Python, la función más utilizada para mostrar una salida en la consola es print()."
      ],
      "metadata": {
        "id": "Ak3QGweUCvsk"
      }
    },
    {
      "cell_type": "code",
      "source": [
        "print(\"Hola, mundo.\")\n",
        "# Muestra el texto \"Hola, mundo.\" en la consola."
      ],
      "metadata": {
        "id": "7WKdRhi2Cyjc"
      },
      "execution_count": null,
      "outputs": []
    },
    {
      "cell_type": "code",
      "source": [
        "edad = 25\n",
        "print(\"Tu edad es:\", edad)"
      ],
      "metadata": {
        "id": "HEUfBjH8C2mz"
      },
      "execution_count": null,
      "outputs": []
    },
    {
      "cell_type": "markdown",
      "source": [
        "## Colecciones de datos:\n",
        "###Listas\n",
        "### Tuplas\n",
        "### Diccionarios y conjuntos.\n",
        "### Diferencias y casos de uso."
      ],
      "metadata": {
        "id": "7CUw-3hD-cxz"
      }
    },
    {
      "cell_type": "markdown",
      "source": [
        "##### **Listas** (list)\n",
        "Las listas son colecciones ordenadas y mutables de elementos. Esto significa que puedes cambiar, añadir o eliminar elementos después de crear la lista. Se definen con corchetes [].\n",
        "\n",
        "Casos de uso: Son ideales para almacenar una colección de elementos que pueden cambiar con el tiempo. Por ejemplo, una lista de tareas pendientes, los productos de un carrito de compras, o los usuarios activos en una aplicación."
      ],
      "metadata": {
        "id": "3L3obXE0Ieyi"
      }
    },
    {
      "cell_type": "code",
      "source": [
        "mi_lista = [\"manzana\", \"banana\", \"cereza\"]\n",
        "mi_lista.append(\"naranja\")  # Agregar un elemento\n",
        "mi_lista[0] = \"uva\"        # Modificar un elemento\n",
        "print(mi_lista)\n",
        "# Salida: ['uva', 'banana', 'cereza', 'naranja']"
      ],
      "metadata": {
        "colab": {
          "base_uri": "https://localhost:8080/"
        },
        "id": "CTJIYHoBIjNJ",
        "outputId": "4b87739f-216e-4a10-d688-335b2b0f9fde"
      },
      "execution_count": null,
      "outputs": [
        {
          "output_type": "stream",
          "name": "stdout",
          "text": [
            "['uva', 'banana', 'cereza', 'naranja']\n"
          ]
        }
      ]
    },
    {
      "cell_type": "markdown",
      "source": [
        "##### **Tuplas (tuple)**\n",
        "Las tuplas son colecciones ordenadas e inmutables de elementos. Una vez creadas, no se pueden modificar. Se definen con paréntesis ().\n",
        "\n",
        "Casos de uso: Útiles para almacenar datos que no deben cambiar. Por ejemplo, las coordenadas de un punto (x, y), una fecha de nacimiento, o los datos de un registro que no deben ser alterados."
      ],
      "metadata": {
        "id": "2_yqGPRlI6kq"
      }
    },
    {
      "cell_type": "code",
      "source": [
        "mi_tupla = (\"Juan\", 25, \"programador\")\n",
        "# mi_tupla[0] = \"Pedro\"  # Esto causaría un error\n",
        "\n",
        "print(mi_tupla[1])\n",
        "# Salida: 25"
      ],
      "metadata": {
        "colab": {
          "base_uri": "https://localhost:8080/"
        },
        "id": "ZFeiS6ijI_Hp",
        "outputId": "dbfc4c91-e289-49d1-d79b-20938ab2d076"
      },
      "execution_count": null,
      "outputs": [
        {
          "output_type": "stream",
          "name": "stdout",
          "text": [
            "25\n"
          ]
        }
      ]
    },
    {
      "cell_type": "markdown",
      "source": [
        "##### **Diccionarios** (dict)\n",
        "Los diccionarios son colecciones desordenadas y mutables de elementos. Almacenan datos en pares de clave-valor. Cada clave debe ser única. Se definen con llaves {}.\n",
        "\n",
        "Casos de uso: Perfectos para almacenar datos estructurados, donde cada elemento tiene una etiqueta única. Por ejemplo, la información de un usuario (nombre, edad, email), la configuración de un sistema, o los datos de un inventario de productos."
      ],
      "metadata": {
        "id": "pt_DZEzuJP2Q"
      }
    },
    {
      "cell_type": "code",
      "source": [
        "usuario = {\n",
        "    \"nombre\": \"Ana\",\n",
        "    \"edad\": 28,\n",
        "    \"ciudad\": \"Madrid\"\n",
        "}\n",
        "\n",
        "print(usuario[\"nombre\"])  # Acceder a un valor\n",
        "usuario[\"edad\"] = 29      # Modificar un valor\n",
        "usuario[\"pais\"] = \"España\" # Agregar un nuevo par\n",
        "print(usuario)\n",
        "# Salida: {'nombre': 'Ana', 'edad': 29, 'ciudad': 'Madrid', 'pais': 'España'}"
      ],
      "metadata": {
        "colab": {
          "base_uri": "https://localhost:8080/"
        },
        "id": "IEEF_d7dJX24",
        "outputId": "f9371029-e87e-4434-f5c0-d5b551540641"
      },
      "execution_count": null,
      "outputs": [
        {
          "output_type": "stream",
          "name": "stdout",
          "text": [
            "Ana\n",
            "{'nombre': 'Ana', 'edad': 29, 'ciudad': 'Madrid', 'pais': 'España'}\n"
          ]
        }
      ]
    },
    {
      "cell_type": "markdown",
      "source": [
        "#### **Conjuntos** (set)\n",
        "Los conjuntos son colecciones no ordenadas y mutables de elementos únicos. No permiten duplicados y se definen con llaves {} (o set() para un conjunto vacío).\n",
        "\n",
        "Casos de uso: Ideales para eliminar duplicados de una lista, verificar rápidamente si un elemento existe en una colección o realizar operaciones matemáticas de conjuntos como la unión, intersección y diferencia.\n",
        "\n"
      ],
      "metadata": {
        "id": "eBJ-zTYfJrl0"
      }
    },
    {
      "cell_type": "code",
      "source": [
        "mi_conjunto = {1, 2, 3, 2, 4}\n",
        "print(mi_conjunto)\n",
        "# Salida: {1, 2, 3, 4} (los duplicados se eliminan automáticamente)\n",
        "\n",
        "mi_conjunto.add(5)         # Agregar un elemento\n",
        "print(2 in mi_conjunto)     # Verificar si un elemento existe\n",
        "print(mi_conjunto)\n",
        "# Salida: True"
      ],
      "metadata": {
        "colab": {
          "base_uri": "https://localhost:8080/"
        },
        "id": "jauG5IByJ0Q0",
        "outputId": "84dc09ac-4a0d-4d2c-bb44-cb541c19026e"
      },
      "execution_count": null,
      "outputs": [
        {
          "output_type": "stream",
          "name": "stdout",
          "text": [
            "{1, 2, 3, 4}\n",
            "True\n",
            "{1, 2, 3, 4, 5}\n"
          ]
        }
      ]
    },
    {
      "cell_type": "markdown",
      "source": [
        "## Estructuras de control de flujo:\n",
        "### Uso de if, elif, y else para la toma de decisiones,\n",
        "###y bucles for y while para la repetición de tareas."
      ],
      "metadata": {
        "id": "do_ywj6J-PJM"
      }
    },
    {
      "cell_type": "markdown",
      "source": [
        "#### Bucle for\n",
        "El bucle for se utiliza cuando se conoce de antemano el número de repeticiones. Es ideal para recorrer elementos en una secuencia, como una lista, una tupla o una cadena de texto."
      ],
      "metadata": {
        "id": "bVfxpUVg7M8L"
      }
    },
    {
      "cell_type": "code",
      "source": [
        "# Recorrer una lista de números\n",
        "numeros = [1, 2, 3, 4, 5]\n",
        "\n",
        "for numero in numeros:\n",
        "    print(numero)"
      ],
      "metadata": {
        "id": "C77rQplP7Lv2"
      },
      "execution_count": null,
      "outputs": []
    },
    {
      "cell_type": "markdown",
      "source": [
        "#### Bucle while\n",
        "El bucle while se ejecuta mientras una condición sea True. La repetición continuará hasta que la condición se vuelva False. Es útil cuando no se sabe exactamente cuántas veces se debe repetir el bloque de código, ya que depende de una condición que puede cambiar.\n",
        "\n",
        "Ejemplo Práctico: Adivinar un número secreto 🎯\n",
        "Un bucle while es ideal para un juego de adivinanzas, ya que el bucle debe continuar hasta que el usuario adivine el número correcto."
      ],
      "metadata": {
        "id": "q-7Z6jKn7nDS"
      }
    },
    {
      "cell_type": "code",
      "source": [
        "numero_secreto = 7\n",
        "adivinanza_del_usuario = 0\n",
        "\n",
        "while adivinanza_del_usuario != numero_secreto:\n",
        "    adivinanza_del_usuario = int(input(\"Adivina el número (entre 1 y 10): \"))\n",
        "\n",
        "print(\"¡Felicidades, adivinaste el número!\")"
      ],
      "metadata": {
        "colab": {
          "base_uri": "https://localhost:8080/"
        },
        "id": "2NrICYRg8GuC",
        "outputId": "33e28f14-6110-4e1e-eb40-76906b9bfafe"
      },
      "execution_count": null,
      "outputs": [
        {
          "output_type": "stream",
          "name": "stdout",
          "text": [
            "Adivina el número (entre 1 y 10): 7\n",
            "¡Felicidades, adivinaste el número!\n"
          ]
        }
      ]
    },
    {
      "cell_type": "code",
      "source": [
        "# Contar del 1 al 3\n",
        "contador = 1\n",
        "\n",
        "while contador <= 3:\n",
        "    print(contador)\n",
        "    contador = contador + 1"
      ],
      "metadata": {
        "id": "wLgpmdlM8hG4"
      },
      "execution_count": null,
      "outputs": []
    },
    {
      "cell_type": "markdown",
      "source": [
        "#### Aplicaciones del tipo de dato booleano\n"
      ],
      "metadata": {
        "id": "m0144UXz6fLo"
      }
    },
    {
      "cell_type": "markdown",
      "source": [
        "##### 1. Condicionales (if /else)\n",
        "\n",
        "Se utilizan para controlar qué bloque de código se ejecuta en función de una condición. Por ejemplo, *si* una condición es True, se ejecuta el código dentro del bloque if; de lo contrario, se ejecuta el código dentro del bloque else (si existe)."
      ],
      "metadata": {
        "id": "b1QVaHfF6sY4"
      }
    },
    {
      "cell_type": "markdown",
      "source": [
        "##"
      ],
      "metadata": {
        "id": "O-Azv3RS6luA"
      }
    },
    {
      "cell_type": "code",
      "source": [
        "tiene_permiso = True\n",
        "\n",
        "if tiene_permiso:\n",
        "    print(\"Puedes acceder al sistema.\")\n",
        "else:\n",
        "    print(\"Acceso denegado.\")\n",
        "\n",
        "# Salida: Puedes acceder al sistema."
      ],
      "metadata": {
        "colab": {
          "base_uri": "https://localhost:8080/"
        },
        "id": "QT_nAoAz6ci5",
        "outputId": "a7b02ed3-a2db-4f5c-8ec4-5ec97491da48"
      },
      "execution_count": null,
      "outputs": [
        {
          "output_type": "stream",
          "name": "stdout",
          "text": [
            "Puedes acceder al sistema.\n"
          ]
        }
      ]
    },
    {
      "cell_type": "markdown",
      "source": [
        "##### 2. **Comparaciones**\n",
        "El resultado de una operación de comparación es un valor booleano. Por ejemplo:"
      ],
      "metadata": {
        "id": "TCDidN8FK6hg"
      }
    },
    {
      "cell_type": "code",
      "source": [
        "x = 10\n",
        "y = 5\n",
        "\n",
        "resultado = x > y\n",
        "print(resultado)\n",
        "\n",
        "# Salida: True"
      ],
      "metadata": {
        "colab": {
          "base_uri": "https://localhost:8080/"
        },
        "id": "srRKYWCILGIr",
        "outputId": "fc9f23f2-9ca4-434e-d66b-2d3e3e4ce5f3"
      },
      "execution_count": null,
      "outputs": [
        {
          "output_type": "stream",
          "name": "stdout",
          "text": [
            "True\n"
          ]
        }
      ]
    },
    {
      "cell_type": "markdown",
      "source": [
        "##### 3. Bucles (while)\n",
        "Se utilizan para determinar si un bucle debe continuar ejecutándose. El bucle while se ejecuta mientras la condición sea True."
      ],
      "metadata": {
        "id": "snbYi0sQPBgQ"
      }
    },
    {
      "cell_type": "code",
      "source": [
        "contador = 0\n",
        "ejecutar_bucle = True\n",
        "\n",
        "while ejecutar_bucle:\n",
        "    print(\"Bucle en ejecución...\")\n",
        "    contador += 1\n",
        "    if contador == 3:\n",
        "        ejecutar_bucle = False\n",
        "\n",
        "# Salida:\n",
        "# Bucle en ejecución...\n",
        "# Bucle en ejecución...\n",
        "# Bucle en ejecución..."
      ],
      "metadata": {
        "colab": {
          "base_uri": "https://localhost:8080/"
        },
        "id": "Xck92ZOaz_qp",
        "outputId": "adf9a5d3-505a-491c-b1db-2aa3cf9cb053"
      },
      "execution_count": null,
      "outputs": [
        {
          "output_type": "stream",
          "name": "stdout",
          "text": [
            "Bucle en ejecución...\n",
            "Bucle en ejecución...\n",
            "Bucle en ejecución...\n"
          ]
        }
      ]
    },
    {
      "cell_type": "markdown",
      "source": [
        "## Operadores y expresiones:*\n",
        "### Operadores aritméticos + - / // % **\n",
        "### De comparación > < >= <= == !=\n",
        "### lógicos.  and or not\n",
        "\n",
        "+\tSuma\t5 + 2\t7\n",
        "-\tResta\t10 - 3\t7\n",
        "*\tMultiplicación\t4 * 5\t20\n",
        "/\tDivisión\t10 / 2\t5.0\n",
        "//\tDivisión entera\t10 // 3\t3\n",
        "%\tMódulo (residuo)\t10 % 3\t1\n",
        "**\tExponente\t2 ** 3\t8"
      ],
      "metadata": {
        "id": "59b0cwj42MH6"
      }
    },
    {
      "cell_type": "code",
      "source": [
        "x = 10\n",
        "y = 5\n",
        "z = 20\n",
        "\n",
        "resultado = x + y\n",
        "resta = x - z\n",
        "division = x/y\n",
        "division_entera = x//y\n",
        "modulo = x%y\n",
        "exponente = x**y\n",
        "\n",
        "print(resultado)\n",
        "print (resta)\n",
        "print(division)\n",
        "print(division_entera)\n",
        "print(modulo)\n",
        "print(exponente)\n"
      ],
      "metadata": {
        "colab": {
          "base_uri": "https://localhost:8080/"
        },
        "id": "WOoMZXAVLoAH",
        "outputId": "50a96727-7e3e-4abc-88cd-21d850a2f141"
      },
      "execution_count": null,
      "outputs": [
        {
          "output_type": "stream",
          "name": "stdout",
          "text": [
            "15\n",
            "-10\n",
            "2.0\n",
            "2\n",
            "0\n",
            "100000\n"
          ]
        }
      ]
    },
    {
      "cell_type": "markdown",
      "source": [
        "# Módulo 2: Funciones y Módulos\n"
      ],
      "metadata": {
        "id": "LN4pnQPD-rRp"
      }
    },
    {
      "cell_type": "markdown",
      "source": [
        "## Creación y uso de funciones:*\n",
        "### Definición de funciones con def, argumentos, parámetros y valores de retorno."
      ],
      "metadata": {
        "id": "dqqnn7Km-1Vx"
      }
    },
    {
      "cell_type": "markdown",
      "source": [
        "#### de funciones con def 🐍\n",
        "En Python, una función es un bloque de código reutilizable que realiza una tarea específica. Se definen utilizando la palabra clave def, seguida del nombre de la función y paréntesis."
      ],
      "metadata": {
        "id": "gQzAVzzk9gPO"
      }
    },
    {
      "cell_type": "code",
      "source": [
        "def saludar():\n",
        "    print(\"¡Hola! Bienvenido a Python.\")\n",
        "\n",
        "saludar() ## si no colocas esto no habra salida\n",
        "# Salida: ¡Hola! Bienvenido a Python."
      ],
      "metadata": {
        "colab": {
          "base_uri": "https://localhost:8080/"
        },
        "id": "R_uM8P6s9fr4",
        "outputId": "f2d72896-9551-4c9c-e5df-06188eae2b88"
      },
      "execution_count": null,
      "outputs": [
        {
          "output_type": "stream",
          "name": "stdout",
          "text": [
            "¡Hola! Bienvenido a Python.\n"
          ]
        }
      ]
    },
    {
      "cell_type": "code",
      "source": [
        "saludar()\n",
        "# Salida: ¡Hola! Bienvenido a Python."
      ],
      "metadata": {
        "colab": {
          "base_uri": "https://localhost:8080/"
        },
        "id": "QIdezrH49xgO",
        "outputId": "b72aceb7-f3c3-40b1-ba07-8a506cac92f3"
      },
      "execution_count": null,
      "outputs": [
        {
          "output_type": "stream",
          "name": "stdout",
          "text": [
            "¡Hola! Bienvenido a Python.\n"
          ]
        }
      ]
    },
    {
      "cell_type": "markdown",
      "source": [
        "#### Argumentos y Parámetros\n",
        "Los parámetros son las variables que se definen en la declaración de una función, dentro de los paréntesis. Los argumentos son los valores que se le pasan a la función cuando se llama."
      ],
      "metadata": {
        "id": "iN_HKfY4-cqF"
      }
    },
    {
      "cell_type": "code",
      "source": [
        "# 'nombre' es el parámetro\n",
        "def saludar_personalizado(nombre):\n",
        "    print(\"Hola, \" + nombre)\n",
        "\n",
        "# 'Juan' es el argumento\n",
        "saludar_personalizado(\"Juan\")\n",
        "# Salida: Hola, Juan"
      ],
      "metadata": {
        "colab": {
          "base_uri": "https://localhost:8080/"
        },
        "id": "ZU4yjOeA-nNs",
        "outputId": "1097138c-8c58-4750-f3a5-51a4f73b2761"
      },
      "execution_count": null,
      "outputs": [
        {
          "output_type": "stream",
          "name": "stdout",
          "text": [
            "Hola, Juan\n"
          ]
        }
      ]
    },
    {
      "cell_type": "code",
      "source": [
        "# Puedes definir múltiples parámetros separándolos con comas:\n",
        "\n",
        "def crear_mensaje(nombre, edad):\n",
        "    print(\"Hola \" + nombre + \", tu edad es \" + str(edad))\n",
        "\n",
        "crear_mensaje(\"Ana\", 30)\n",
        "# Salida: Hola Ana, tu edad es 30"
      ],
      "metadata": {
        "colab": {
          "base_uri": "https://localhost:8080/"
        },
        "id": "6RKh0Gq2-vD7",
        "outputId": "092d6745-6153-4a8a-e79f-81011360f8ca"
      },
      "execution_count": null,
      "outputs": [
        {
          "output_type": "stream",
          "name": "stdout",
          "text": [
            "Hola Ana, tu edad es 30\n"
          ]
        }
      ]
    },
    {
      "cell_type": "markdown",
      "source": [
        "#### Valores de Retorno\n",
        "Las funciones pueden devolver un valor utilizando la palabra clave return. Esto permite que el resultado de una función se almacene en una variable o se utilice en otra parte del programa."
      ],
      "metadata": {
        "id": "WVqBvfJ-_C2U"
      }
    },
    {
      "cell_type": "code",
      "source": [
        "def sumar(a, b):\n",
        "    resultado = a + b\n",
        "    return resultado\n",
        "\n",
        "# Se captura el valor retornado por la función en la variable 'suma_total'\n",
        "suma_total = sumar(5, 3)\n",
        "print(suma_total)\n",
        "# Salida: 8"
      ],
      "metadata": {
        "id": "2b2T81FM_FnT"
      },
      "execution_count": null,
      "outputs": []
    },
    {
      "cell_type": "markdown",
      "source": [
        "## Funciones anónimas (Lambda):* Introducción a las funciones lambda para tareas sencillas."
      ],
      "metadata": {
        "id": "eSKujbDQUVvU"
      }
    },
    {
      "cell_type": "markdown",
      "source": [
        "Sintaxis\n",
        "Las funciones lambda se definen con la palabra clave lambda, seguida de los argumentos y luego la expresión que se evaluará y devolverá."
      ],
      "metadata": {
        "id": "Ja0Yef_kIBir"
      }
    },
    {
      "cell_type": "code",
      "source": [
        "lambda argumentos: expresion"
      ],
      "metadata": {
        "id": "NGXQ1Wi5H79K"
      },
      "execution_count": null,
      "outputs": []
    },
    {
      "cell_type": "code",
      "source": [
        "productos = [\n",
        "    (\"Laptop\", 1200),\n",
        "    (\"Teclado\", 150),\n",
        "    (\"Mouse\", 80),\n",
        "    (\"Monitor\", 300)\n",
        "]\n",
        "\n",
        "# Ordenar la lista por el precio (el segundo elemento de cada tupla)\n",
        "productos_ordenados = sorted(productos, key=lambda producto: producto[1])\n",
        "\n",
        "print(productos_ordenados)"
      ],
      "metadata": {
        "colab": {
          "base_uri": "https://localhost:8080/"
        },
        "id": "XWv8OtfhIFYZ",
        "outputId": "724f7a70-e673-4678-8016-63c6c52ec406"
      },
      "execution_count": null,
      "outputs": [
        {
          "output_type": "stream",
          "name": "stdout",
          "text": [
            "[('Mouse', 80), ('Teclado', 150), ('Monitor', 300), ('Laptop', 1200)]\n"
          ]
        }
      ]
    },
    {
      "cell_type": "markdown",
      "source": [],
      "metadata": {
        "id": "D1FJlN5Z_CFJ"
      }
    },
    {
      "cell_type": "markdown",
      "source": [
        "## Módulos y paquetes:\n",
        "### Cómo importar y usar módulos de la biblioteca estándar de Python y paquetes de terceros (como NumPy, por ejemplo)."
      ],
      "metadata": {
        "id": "FVizczh-Ub7K"
      }
    },
    {
      "cell_type": "markdown",
      "source": [
        "### Manejo de errores y excepciones:\n",
        "#### Uso de bloques try, except, else y finally para gestionar errores comunes en el código."
      ],
      "metadata": {
        "id": "KPhq9lqTUqOq"
      }
    },
    {
      "cell_type": "markdown",
      "source": [
        "# Módulo 3: Programación Orientada a Objetos (POO)"
      ],
      "metadata": {
        "id": "CyCWnzsWV8vw"
      }
    },
    {
      "cell_type": "markdown",
      "source": [
        "## Conceptos básicos de POO:\n",
        "### Clases y objetos. ¿Qué son y cómo se relacionan?"
      ],
      "metadata": {
        "id": "WHq6pne6WBxn"
      }
    },
    {
      "cell_type": "markdown",
      "source": [
        "## Creación de clases:\n",
        "### Atributos de clase, métodos y el constructor __init__.\n"
      ],
      "metadata": {
        "id": "4ctx3u6hWIgn"
      }
    },
    {
      "cell_type": "markdown",
      "source": [
        "## Pilares de la POO:\n",
        "### Herencia: Crear nuevas clases a partir de clases existentes.\n",
        "### Polimorfismo: Diferentes objetos respondiendo a la misma llamada de método.\n",
        "### Encapsulamiento: Ocultar detalles internos de una clase."
      ],
      "metadata": {
        "id": "Y2Xc2kskgCCE"
      }
    },
    {
      "cell_type": "markdown",
      "source": [
        "# Módulo 4: Temas avanzados y aplicaciones\n"
      ],
      "metadata": {
        "id": "0O9lveKTgYnk"
      }
    },
    {
      "cell_type": "markdown",
      "source": [
        "## Manejo de archivos: Lectura y escritura de archivos de texto y CSV.\n"
      ],
      "metadata": {
        "id": "6jdfO9gege-z"
      }
    },
    {
      "cell_type": "markdown",
      "source": [
        "## Bibliotecas esenciales:\n",
        "### NumPy:* Para computación numérica y arrays multidimensionales.\n",
        "### Pandas:* Para análisis de datos y manipulación de DataFrames.\n",
        "### Matplotlib/Seaborn: Para visualización de datos y gráficos.\n",
        "### Introducción a la programación web: Conceptos básicos con frameworks como Flask o Django.\n",
        "### Prácticas recomendadas:\n",
        "#### Estilo de código (PEP 8), buenas prácticas de documentación y control de versiones con Git."
      ],
      "metadata": {
        "id": "BmNtG02egqEz"
      }
    },
    {
      "cell_type": "markdown",
      "source": [
        "## Proyectos prácticos\n",
        "### Proyecto 1 (Principiante):* Un juego simple de adivinanza de números o un \"todo-list\" en la consola.\n",
        "### Proyecto 2 (Intermedio):* Un script para procesar datos de un archivo CSV o un \"web-scraper\" básico.\n",
        "### Proyecto 3 (Avanzado):* Un pequeño sitio web dinámico con Flask o un proyecto de análisis de datos más complejo."
      ],
      "metadata": {
        "id": "3s68M-5khD3S"
      }
    },
    {
      "cell_type": "markdown",
      "source": [
        "# Curiosidad\n",
        "\n"
      ],
      "metadata": {
        "id": "TrE-jl_1vfzK"
      }
    },
    {
      "cell_type": "markdown",
      "source": [
        "## Instagram, al ser una plataforma tan grande y compleja, usa una variedad de lenguajes de programación y tecnologías para su funcionamiento. Sin embargo, su lenguaje principal para el backend es Python, específicamente utilizando el framework web Django.\n",
        "\n",
        "## Aquí un desglose de las tecnologías clave de Instagram:\n",
        "\n",
        "## Backend: El núcleo del servidor de Instagram, donde se maneja la lógica de la aplicación (como la gestión de usuarios, publicaciones y el flujo de datos), está construido principalmente con Python y el framework Django. La elección de Django se debió a su rapidez para el desarrollo y su capacidad para manejar un alto volumen de tráfico.\n",
        "\n",
        "## Frontend (aplicaciones móviles):\n",
        "\n",
        "## Para la aplicación de iOS se utiliza Objective-C y Swift.\n",
        "\n",
        "## Para la aplicación de Android se utiliza Java y Kotlin.\n",
        "\n",
        "## Otros lenguajes y tecnologías:\n",
        "\n",
        "## PostgreSQL para la base de datos.\n",
        "\n",
        "## Cassandra y Redis para el almacenamiento de datos a gran escala y la caché.\n",
        "\n",
        "## JavaScript en el frontend de la versión web.\n",
        "\n",
        "## Se utiliza GraphQL para gestionar las peticiones de datos de manera más eficiente.\n",
        "\n",
        "## El lenguaje de programación Go también se usa para algunas herramientas internas."
      ],
      "metadata": {
        "id": "dEgqBvyIlEVq"
      }
    }
  ]
}